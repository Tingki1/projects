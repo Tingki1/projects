{
 "cells": [
  {
   "cell_type": "markdown",
   "metadata": {},
   "source": [
    "# Work Coverage\n",
    "\n",
    "[1. Web Scrapping](#web_scraping) <br>\n",
    "[2. Data Exploration(1)](#data_exploration_1) <br>\n",
    "[3. Data Cleaning](#data_cleaning) <br>\n",
    "[4. Data Exploration & Visualisation(2)](#data_exploration_2) <br>\n",
    "[4. Text Analysis](#text_analysis) <br>"
   ]
  },
  {
   "cell_type": "markdown",
   "metadata": {},
   "source": [
    "---"
   ]
  },
  {
   "cell_type": "markdown",
   "metadata": {},
   "source": [
    "<a id='web_scraping'></a>"
   ]
  },
  {
   "cell_type": "markdown",
   "metadata": {},
   "source": [
    "# Web Scraping"
   ]
  },
  {
   "cell_type": "code",
   "execution_count": 1,
   "metadata": {},
   "outputs": [],
   "source": [
    "from bs4 import BeautifulSoup\n",
    "import requests\n",
    "import re\n",
    "import time\n",
    "from collections import defaultdict\n",
    "import pandas as pd"
   ]
  },
  {
   "cell_type": "code",
   "execution_count": 2,
   "metadata": {},
   "outputs": [],
   "source": [
    "def gen_links(url, base):\n",
    "    '''Find accessible links and iter them to get info'''\n",
    "    link = url\n",
    "    page_num = 1\n",
    "    \n",
    "    while True:\n",
    "        page = requests.get(link)\n",
    "        if page:\n",
    "            # If accessible\n",
    "            iter_link(page)\n",
    "            print(link, end='\\n')\n",
    "\n",
    "            # Check next page\n",
    "            page_num += 1\n",
    "            link = f'{base}{page_num}#reviews'\n",
    "            time.sleep(10)\n",
    "        else:\n",
    "            break"
   ]
  },
  {
   "cell_type": "code",
   "execution_count": 3,
   "metadata": {},
   "outputs": [],
   "source": [
    "# Specific classes for finding ratings\n",
    "class_for_ratings = ['me-1_KrM flex-shrink-0_YwL rating_A5M rating--dark_N9b rating--10__3a rating--medium__tq rating--stars_CTa', \n",
    "                  'me-1_KrM flex-shrink-0_YwL rating_A5M rating--dark_N9b rating--20__Tx rating--medium__tq rating--stars_CTa',\n",
    "                  'me-1_KrM flex-shrink-0_YwL rating_A5M rating--dark_N9b rating--30__Kt rating--medium__tq rating--stars_CTa',\n",
    "                  'me-1_KrM flex-shrink-0_YwL rating_A5M rating--dark_N9b rating--40__ae rating--medium__tq rating--stars_CTa',\n",
    "                  'me-1_KrM flex-shrink-0_YwL rating_A5M rating--dark_N9b rating--50_CiW rating--medium__tq rating--stars_CTa']\n",
    "\n",
    "reviews_dict = defaultdict(list)\n",
    "\n",
    "def get_info(reviews):\n",
    "    \n",
    "    for info in reviews:\n",
    "        # Comments\n",
    "        comment = info.find(\"p\", class_=\"mb-0__MF\")\n",
    "        reviews_dict['Comments'].append(comment.text.strip())\n",
    "        \n",
    "        # Ratings\n",
    "        rate = info.find('div', class_for_ratings).get('title')\n",
    "        pattern = r'(\\d) out of 5 stars'\n",
    "        reviews_dict['Ratings'].append(re.match(pattern, rate).group(1))\n",
    "        \n",
    "        # Titles\n",
    "        tit = info.find('h3', 'mb-1_Q7u')\n",
    "        reviews_dict['Titles'].append(tit.text)\n",
    "        \n",
    "        # Dates\n",
    "        time = info.find('time')\n",
    "        reviews_dict['Dates'].append(time.get('datetime'))\n",
    "        \n",
    "        # Locations\n",
    "        loc = info.find('small')\n",
    "        reviews_dict['Locations'].append(loc.text)"
   ]
  },
  {
   "cell_type": "code",
   "execution_count": 4,
   "metadata": {},
   "outputs": [],
   "source": [
    "def iter_link(page):\n",
    "    '''Iter over links to get info about reviews'''\n",
    "    soup = BeautifulSoup(page.content, \"html.parser\")\n",
    "    reviews = soup.find_all(id=re.compile(\"^review-\"))\n",
    "    get_info(reviews)"
   ]
  },
  {
   "cell_type": "code",
   "execution_count": 5,
   "metadata": {},
   "outputs": [
    {
     "name": "stdout",
     "output_type": "stream",
     "text": [
      "https://www.productreview.com.au/listings/uber-eats#reviews\n",
      "https://www.productreview.com.au/listings/uber-eats?page=2#reviews\n",
      "https://www.productreview.com.au/listings/uber-eats?page=3#reviews\n",
      "https://www.productreview.com.au/listings/uber-eats?page=4#reviews\n",
      "https://www.productreview.com.au/listings/uber-eats?page=5#reviews\n",
      "https://www.productreview.com.au/listings/uber-eats?page=6#reviews\n",
      "https://www.productreview.com.au/listings/uber-eats?page=7#reviews\n",
      "https://www.productreview.com.au/listings/uber-eats?page=8#reviews\n",
      "https://www.productreview.com.au/listings/uber-eats?page=9#reviews\n"
     ]
    }
   ],
   "source": [
    "url = \"https://www.productreview.com.au/listings/uber-eats#reviews\"\n",
    "base = 'https://www.productreview.com.au/listings/uber-eats?page='\n",
    "\n",
    "gen_links(url, base)"
   ]
  },
  {
   "cell_type": "code",
   "execution_count": 6,
   "metadata": {},
   "outputs": [],
   "source": [
    "df = pd.DataFrame(reviews_dict)"
   ]
  },
  {
   "cell_type": "code",
   "execution_count": 7,
   "metadata": {},
   "outputs": [
    {
     "data": {
      "text/html": [
       "<div>\n",
       "<style scoped>\n",
       "    .dataframe tbody tr th:only-of-type {\n",
       "        vertical-align: middle;\n",
       "    }\n",
       "\n",
       "    .dataframe tbody tr th {\n",
       "        vertical-align: top;\n",
       "    }\n",
       "\n",
       "    .dataframe thead th {\n",
       "        text-align: right;\n",
       "    }\n",
       "</style>\n",
       "<table border=\"1\" class=\"dataframe\">\n",
       "  <thead>\n",
       "    <tr style=\"text-align: right;\">\n",
       "      <th></th>\n",
       "      <th>Comments</th>\n",
       "      <th>Ratings</th>\n",
       "      <th>Titles</th>\n",
       "      <th>Dates</th>\n",
       "      <th>Locations</th>\n",
       "    </tr>\n",
       "  </thead>\n",
       "  <tbody>\n",
       "    <tr>\n",
       "      <th>0</th>\n",
       "      <td>After waiting 2hours we are told they won't be...</td>\n",
       "      <td>1</td>\n",
       "      <td>Food not delivered</td>\n",
       "      <td>2022-02-27T11:11:47.000Z</td>\n",
       "      <td></td>\n",
       "    </tr>\n",
       "    <tr>\n",
       "      <th>1</th>\n",
       "      <td>Ordered subway footlong meatballs tasted off. ...</td>\n",
       "      <td>1</td>\n",
       "      <td>Food quality</td>\n",
       "      <td>2022-02-26T22:48:13.000Z</td>\n",
       "      <td></td>\n",
       "    </tr>\n",
       "    <tr>\n",
       "      <th>2</th>\n",
       "      <td>After a 1.5h wait the restaurant claimed it wa...</td>\n",
       "      <td>1</td>\n",
       "      <td>Food left on the grass median strip in the rain</td>\n",
       "      <td>2022-02-25T13:12:06.000Z</td>\n",
       "      <td></td>\n",
       "    </tr>\n",
       "    <tr>\n",
       "      <th>3</th>\n",
       "      <td>Would rate no star but wont accept less than o...</td>\n",
       "      <td>1</td>\n",
       "      <td>Order not delivered</td>\n",
       "      <td>2022-02-25T03:38:01.000Z</td>\n",
       "      <td>Metropolitan Adelaide, SA</td>\n",
       "    </tr>\n",
       "    <tr>\n",
       "      <th>4</th>\n",
       "      <td>It’s been tough as a full time worker to order...</td>\n",
       "      <td>2</td>\n",
       "      <td>WAY TOO EXPENSIVE</td>\n",
       "      <td>2022-02-23T11:31:17.000Z</td>\n",
       "      <td>Perth, WA</td>\n",
       "    </tr>\n",
       "    <tr>\n",
       "      <th>...</th>\n",
       "      <td>...</td>\n",
       "      <td>...</td>\n",
       "      <td>...</td>\n",
       "      <td>...</td>\n",
       "      <td>...</td>\n",
       "    </tr>\n",
       "    <tr>\n",
       "      <th>210</th>\n",
       "      <td>Placed our order, gave the delivery address an...</td>\n",
       "      <td>1</td>\n",
       "      <td>Absolutely Underwhelmed</td>\n",
       "      <td>2021-10-23T05:15:18.000Z</td>\n",
       "      <td></td>\n",
       "    </tr>\n",
       "    <tr>\n",
       "      <th>211</th>\n",
       "      <td>I can see a guy accepted my order and on the w...</td>\n",
       "      <td>1</td>\n",
       "      <td>Not impressed</td>\n",
       "      <td>2021-10-23T02:49:33.000Z</td>\n",
       "      <td>Central Highlands and Goldfields, VIC</td>\n",
       "    </tr>\n",
       "    <tr>\n",
       "      <th>212</th>\n",
       "      <td>High charges and delivery compared to Doordash...</td>\n",
       "      <td>1</td>\n",
       "      <td>Waited for 2 hrs</td>\n",
       "      <td>2021-10-23T02:42:30.000Z</td>\n",
       "      <td>Greater Melbourne (Outer), VIC</td>\n",
       "    </tr>\n",
       "    <tr>\n",
       "      <th>213</th>\n",
       "      <td>80% of the time (being as generous as I can he...</td>\n",
       "      <td>1</td>\n",
       "      <td>The worst</td>\n",
       "      <td>2021-10-22T22:45:13.000Z</td>\n",
       "      <td>South East Queensland, QLD</td>\n",
       "    </tr>\n",
       "    <tr>\n",
       "      <th>214</th>\n",
       "      <td>Ordered food from a restaurant that was only 1...</td>\n",
       "      <td>1</td>\n",
       "      <td>Never again</td>\n",
       "      <td>2021-10-22T11:23:08.000Z</td>\n",
       "      <td></td>\n",
       "    </tr>\n",
       "  </tbody>\n",
       "</table>\n",
       "<p>215 rows × 5 columns</p>\n",
       "</div>"
      ],
      "text/plain": [
       "                                              Comments Ratings  \\\n",
       "0    After waiting 2hours we are told they won't be...       1   \n",
       "1    Ordered subway footlong meatballs tasted off. ...       1   \n",
       "2    After a 1.5h wait the restaurant claimed it wa...       1   \n",
       "3    Would rate no star but wont accept less than o...       1   \n",
       "4    It’s been tough as a full time worker to order...       2   \n",
       "..                                                 ...     ...   \n",
       "210  Placed our order, gave the delivery address an...       1   \n",
       "211  I can see a guy accepted my order and on the w...       1   \n",
       "212  High charges and delivery compared to Doordash...       1   \n",
       "213  80% of the time (being as generous as I can he...       1   \n",
       "214  Ordered food from a restaurant that was only 1...       1   \n",
       "\n",
       "                                              Titles  \\\n",
       "0                                 Food not delivered   \n",
       "1                                       Food quality   \n",
       "2    Food left on the grass median strip in the rain   \n",
       "3                                Order not delivered   \n",
       "4                                  WAY TOO EXPENSIVE   \n",
       "..                                               ...   \n",
       "210                          Absolutely Underwhelmed   \n",
       "211                                    Not impressed   \n",
       "212                                 Waited for 2 hrs   \n",
       "213                                        The worst   \n",
       "214                                      Never again   \n",
       "\n",
       "                        Dates                              Locations  \n",
       "0    2022-02-27T11:11:47.000Z                                         \n",
       "1    2022-02-26T22:48:13.000Z                                         \n",
       "2    2022-02-25T13:12:06.000Z                                         \n",
       "3    2022-02-25T03:38:01.000Z              Metropolitan Adelaide, SA  \n",
       "4    2022-02-23T11:31:17.000Z                              Perth, WA  \n",
       "..                        ...                                    ...  \n",
       "210  2021-10-23T05:15:18.000Z                                         \n",
       "211  2021-10-23T02:49:33.000Z  Central Highlands and Goldfields, VIC  \n",
       "212  2021-10-23T02:42:30.000Z         Greater Melbourne (Outer), VIC  \n",
       "213  2021-10-22T22:45:13.000Z             South East Queensland, QLD  \n",
       "214  2021-10-22T11:23:08.000Z                                         \n",
       "\n",
       "[215 rows x 5 columns]"
      ]
     },
     "execution_count": 7,
     "metadata": {},
     "output_type": "execute_result"
    }
   ],
   "source": [
    "df"
   ]
  },
  {
   "cell_type": "markdown",
   "metadata": {},
   "source": [
    "---"
   ]
  },
  {
   "cell_type": "markdown",
   "metadata": {},
   "source": [
    "<a id='data_exploration_1'></a>"
   ]
  },
  {
   "cell_type": "markdown",
   "metadata": {},
   "source": [
    "# Data Exploration (1)"
   ]
  },
  {
   "cell_type": "code",
   "execution_count": 8,
   "metadata": {},
   "outputs": [
    {
     "data": {
      "text/html": [
       "<div>\n",
       "<style scoped>\n",
       "    .dataframe tbody tr th:only-of-type {\n",
       "        vertical-align: middle;\n",
       "    }\n",
       "\n",
       "    .dataframe tbody tr th {\n",
       "        vertical-align: top;\n",
       "    }\n",
       "\n",
       "    .dataframe thead th {\n",
       "        text-align: right;\n",
       "    }\n",
       "</style>\n",
       "<table border=\"1\" class=\"dataframe\">\n",
       "  <thead>\n",
       "    <tr style=\"text-align: right;\">\n",
       "      <th></th>\n",
       "      <th>Comments</th>\n",
       "      <th>Ratings</th>\n",
       "      <th>Titles</th>\n",
       "      <th>Dates</th>\n",
       "      <th>Locations</th>\n",
       "    </tr>\n",
       "  </thead>\n",
       "  <tbody>\n",
       "    <tr>\n",
       "      <th>0</th>\n",
       "      <td>After waiting 2hours we are told they won't be...</td>\n",
       "      <td>1</td>\n",
       "      <td>Food not delivered</td>\n",
       "      <td>2022-02-27T11:11:47.000Z</td>\n",
       "      <td></td>\n",
       "    </tr>\n",
       "    <tr>\n",
       "      <th>1</th>\n",
       "      <td>Ordered subway footlong meatballs tasted off. ...</td>\n",
       "      <td>1</td>\n",
       "      <td>Food quality</td>\n",
       "      <td>2022-02-26T22:48:13.000Z</td>\n",
       "      <td></td>\n",
       "    </tr>\n",
       "    <tr>\n",
       "      <th>2</th>\n",
       "      <td>After a 1.5h wait the restaurant claimed it wa...</td>\n",
       "      <td>1</td>\n",
       "      <td>Food left on the grass median strip in the rain</td>\n",
       "      <td>2022-02-25T13:12:06.000Z</td>\n",
       "      <td></td>\n",
       "    </tr>\n",
       "    <tr>\n",
       "      <th>3</th>\n",
       "      <td>Would rate no star but wont accept less than o...</td>\n",
       "      <td>1</td>\n",
       "      <td>Order not delivered</td>\n",
       "      <td>2022-02-25T03:38:01.000Z</td>\n",
       "      <td>Metropolitan Adelaide, SA</td>\n",
       "    </tr>\n",
       "    <tr>\n",
       "      <th>4</th>\n",
       "      <td>It’s been tough as a full time worker to order...</td>\n",
       "      <td>2</td>\n",
       "      <td>WAY TOO EXPENSIVE</td>\n",
       "      <td>2022-02-23T11:31:17.000Z</td>\n",
       "      <td>Perth, WA</td>\n",
       "    </tr>\n",
       "    <tr>\n",
       "      <th>5</th>\n",
       "      <td>Uber Eats used to be great - prompt delivery, ...</td>\n",
       "      <td>1</td>\n",
       "      <td>Uber Eats now unusable in the Dandenong Ranges</td>\n",
       "      <td>2022-02-21T11:35:57.000Z</td>\n",
       "      <td>Greater Melbourne (Outer), VIC</td>\n",
       "    </tr>\n",
       "    <tr>\n",
       "      <th>6</th>\n",
       "      <td>My young families order did not exist yet char...</td>\n",
       "      <td>1</td>\n",
       "      <td>Abysmal.</td>\n",
       "      <td>2022-02-20T23:42:16.000Z</td>\n",
       "      <td></td>\n",
       "    </tr>\n",
       "    <tr>\n",
       "      <th>7</th>\n",
       "      <td>Wait hours for the order to not even show up, ...</td>\n",
       "      <td>1</td>\n",
       "      <td>Wait hours for the order to not even show up, ...</td>\n",
       "      <td>2022-02-18T11:23:09.000Z</td>\n",
       "      <td>North Queensland, QLD</td>\n",
       "    </tr>\n",
       "    <tr>\n",
       "      <th>8</th>\n",
       "      <td>Uber eats is the worst service now. Can take 2...</td>\n",
       "      <td>1</td>\n",
       "      <td>The worst</td>\n",
       "      <td>2022-02-18T10:15:35.000Z</td>\n",
       "      <td></td>\n",
       "    </tr>\n",
       "    <tr>\n",
       "      <th>9</th>\n",
       "      <td>He spent forever going the wrong way! Never ev...</td>\n",
       "      <td>1</td>\n",
       "      <td>An absolute loser of a driver</td>\n",
       "      <td>2022-02-18T08:37:40.000Z</td>\n",
       "      <td>AU</td>\n",
       "    </tr>\n",
       "  </tbody>\n",
       "</table>\n",
       "</div>"
      ],
      "text/plain": [
       "                                            Comments Ratings  \\\n",
       "0  After waiting 2hours we are told they won't be...       1   \n",
       "1  Ordered subway footlong meatballs tasted off. ...       1   \n",
       "2  After a 1.5h wait the restaurant claimed it wa...       1   \n",
       "3  Would rate no star but wont accept less than o...       1   \n",
       "4  It’s been tough as a full time worker to order...       2   \n",
       "5  Uber Eats used to be great - prompt delivery, ...       1   \n",
       "6  My young families order did not exist yet char...       1   \n",
       "7  Wait hours for the order to not even show up, ...       1   \n",
       "8  Uber eats is the worst service now. Can take 2...       1   \n",
       "9  He spent forever going the wrong way! Never ev...       1   \n",
       "\n",
       "                                              Titles  \\\n",
       "0                                 Food not delivered   \n",
       "1                                       Food quality   \n",
       "2    Food left on the grass median strip in the rain   \n",
       "3                                Order not delivered   \n",
       "4                                  WAY TOO EXPENSIVE   \n",
       "5     Uber Eats now unusable in the Dandenong Ranges   \n",
       "6                                           Abysmal.   \n",
       "7  Wait hours for the order to not even show up, ...   \n",
       "8                                          The worst   \n",
       "9                      An absolute loser of a driver   \n",
       "\n",
       "                      Dates                       Locations  \n",
       "0  2022-02-27T11:11:47.000Z                                  \n",
       "1  2022-02-26T22:48:13.000Z                                  \n",
       "2  2022-02-25T13:12:06.000Z                                  \n",
       "3  2022-02-25T03:38:01.000Z       Metropolitan Adelaide, SA  \n",
       "4  2022-02-23T11:31:17.000Z                       Perth, WA  \n",
       "5  2022-02-21T11:35:57.000Z  Greater Melbourne (Outer), VIC  \n",
       "6  2022-02-20T23:42:16.000Z                                  \n",
       "7  2022-02-18T11:23:09.000Z           North Queensland, QLD  \n",
       "8  2022-02-18T10:15:35.000Z                                  \n",
       "9  2022-02-18T08:37:40.000Z                              AU  "
      ]
     },
     "execution_count": 8,
     "metadata": {},
     "output_type": "execute_result"
    }
   ],
   "source": [
    "df.head(10)"
   ]
  },
  {
   "cell_type": "code",
   "execution_count": 9,
   "metadata": {},
   "outputs": [
    {
     "data": {
      "text/html": [
       "<div>\n",
       "<style scoped>\n",
       "    .dataframe tbody tr th:only-of-type {\n",
       "        vertical-align: middle;\n",
       "    }\n",
       "\n",
       "    .dataframe tbody tr th {\n",
       "        vertical-align: top;\n",
       "    }\n",
       "\n",
       "    .dataframe thead th {\n",
       "        text-align: right;\n",
       "    }\n",
       "</style>\n",
       "<table border=\"1\" class=\"dataframe\">\n",
       "  <thead>\n",
       "    <tr style=\"text-align: right;\">\n",
       "      <th></th>\n",
       "      <th>Comments</th>\n",
       "      <th>Ratings</th>\n",
       "      <th>Titles</th>\n",
       "      <th>Dates</th>\n",
       "      <th>Locations</th>\n",
       "    </tr>\n",
       "  </thead>\n",
       "  <tbody>\n",
       "    <tr>\n",
       "      <th>count</th>\n",
       "      <td>215</td>\n",
       "      <td>215</td>\n",
       "      <td>215</td>\n",
       "      <td>215</td>\n",
       "      <td>215</td>\n",
       "    </tr>\n",
       "    <tr>\n",
       "      <th>unique</th>\n",
       "      <td>215</td>\n",
       "      <td>4</td>\n",
       "      <td>207</td>\n",
       "      <td>215</td>\n",
       "      <td>28</td>\n",
       "    </tr>\n",
       "    <tr>\n",
       "      <th>top</th>\n",
       "      <td>I was looking forward to eating my meals. Had ...</td>\n",
       "      <td>1</td>\n",
       "      <td>The worst</td>\n",
       "      <td>2021-12-02T08:43:38.000Z</td>\n",
       "      <td></td>\n",
       "    </tr>\n",
       "    <tr>\n",
       "      <th>freq</th>\n",
       "      <td>1</td>\n",
       "      <td>208</td>\n",
       "      <td>3</td>\n",
       "      <td>1</td>\n",
       "      <td>91</td>\n",
       "    </tr>\n",
       "  </tbody>\n",
       "</table>\n",
       "</div>"
      ],
      "text/plain": [
       "                                                 Comments Ratings     Titles  \\\n",
       "count                                                 215     215        215   \n",
       "unique                                                215       4        207   \n",
       "top     I was looking forward to eating my meals. Had ...       1  The worst   \n",
       "freq                                                    1     208          3   \n",
       "\n",
       "                           Dates Locations  \n",
       "count                        215       215  \n",
       "unique                       215        28  \n",
       "top     2021-12-02T08:43:38.000Z            \n",
       "freq                           1        91  "
      ]
     },
     "execution_count": 9,
     "metadata": {},
     "output_type": "execute_result"
    }
   ],
   "source": [
    "df.describe()"
   ]
  },
  {
   "cell_type": "code",
   "execution_count": 10,
   "metadata": {},
   "outputs": [
    {
     "name": "stdout",
     "output_type": "stream",
     "text": [
      "<class 'pandas.core.frame.DataFrame'>\n",
      "RangeIndex: 215 entries, 0 to 214\n",
      "Data columns (total 5 columns):\n",
      " #   Column     Non-Null Count  Dtype \n",
      "---  ------     --------------  ----- \n",
      " 0   Comments   215 non-null    object\n",
      " 1   Ratings    215 non-null    object\n",
      " 2   Titles     215 non-null    object\n",
      " 3   Dates      215 non-null    object\n",
      " 4   Locations  215 non-null    object\n",
      "dtypes: object(5)\n",
      "memory usage: 8.5+ KB\n"
     ]
    }
   ],
   "source": [
    "df.info()"
   ]
  },
  {
   "cell_type": "markdown",
   "metadata": {},
   "source": [
    "---"
   ]
  },
  {
   "cell_type": "markdown",
   "metadata": {},
   "source": [
    "<a id='data_cleaning'></a>"
   ]
  },
  {
   "cell_type": "markdown",
   "metadata": {},
   "source": [
    "# Data Cleaning"
   ]
  },
  {
   "cell_type": "code",
   "execution_count": 11,
   "metadata": {},
   "outputs": [],
   "source": [
    "import numpy as np"
   ]
  },
  {
   "cell_type": "markdown",
   "metadata": {},
   "source": [
    "> <font size=\"4\">***1. Locations***</font>"
   ]
  },
  {
   "cell_type": "markdown",
   "metadata": {},
   "source": [
    "<font size=\"3\"><u>*1.1 Data normalisation*</u></font>"
   ]
  },
  {
   "cell_type": "code",
   "execution_count": 12,
   "metadata": {},
   "outputs": [],
   "source": [
    "# Split locations into states and cities, then add to the dict\n",
    "for loc in reviews_dict['Locations']:\n",
    "    \n",
    "    state, city = loc.split(',')[-1], loc.split(',')[0]\n",
    "    \n",
    "    reviews_dict['States'].append(state.strip())\n",
    "    reviews_dict['Cities'].append(city.strip())"
   ]
  },
  {
   "cell_type": "markdown",
   "metadata": {},
   "source": [
    "<font size=\"3\"><u>*1.2 Data consistency*</u></font>"
   ]
  },
  {
   "cell_type": "code",
   "execution_count": 13,
   "metadata": {},
   "outputs": [],
   "source": [
    "abbreviated_states = {'Australian Capital Territory': 'ACT', \n",
    "             'New South Wales': 'NSW', \n",
    "             'Northern Territory': 'NT', \n",
    "             'Queensland': 'QLD', \n",
    "             'South Australia': 'SA', \n",
    "             'Tasmania': 'TAS', \n",
    "             'Victoria': 'VIC', \n",
    "             'Western Australia': 'WA'}"
   ]
  },
  {
   "cell_type": "code",
   "execution_count": 14,
   "metadata": {},
   "outputs": [],
   "source": [
    "# Retrieve city names under each state\n",
    "link_city = 'https://www.britannica.com/topic/list-of-cities-and-towns-in-Australia-2027337#ref327411'\n",
    "page_city = requests.get(link_city)\n",
    "soup_city = BeautifulSoup(page_city.content, \"html.parser\")\n",
    "\n",
    "# Consists of state and city names (lower-case) under the state\n",
    "state_city = defaultdict(list)\n",
    "\n",
    "# Content: State + Cities\n",
    "for content in soup_city.find_all('div', class_='topic-content pt-15'):\n",
    "    \n",
    "    # State_info: list of cities\n",
    "    for state_info in content.find_all('section', id=re.compile(r'^ref3')):\n",
    "        \n",
    "        # Cities\n",
    "        for cities in state_info.find_all('ul', 'topic-list'):\n",
    "            for city in cities.find_all('a', class_='md-crosslink'):\n",
    "                \n",
    "                # Find lower-case state\n",
    "                state = state_info.find('a', 'md-crosslink').text\n",
    "                # Add Lower-case cities to according state\n",
    "                state_city[state].append(city.text.lower())\n",
    "        # Add the state        \n",
    "        state_city[state].append(state.lower())\n"
   ]
  },
  {
   "cell_type": "code",
   "execution_count": 15,
   "metadata": {},
   "outputs": [],
   "source": [
    "state_city_copy = state_city.copy()\n",
    "\n",
    "# Add abbreviated states to state_city(dict)\n",
    "for state in state_city_copy.keys():\n",
    "    for key in abbreviated_states.keys():\n",
    "        if key == state:\n",
    "            state_city[state].append(abbreviated_states[key].lower())\n",
    "            break"
   ]
  },
  {
   "cell_type": "code",
   "execution_count": 16,
   "metadata": {},
   "outputs": [],
   "source": [
    "states = []\n",
    "\n",
    "for state in reviews_dict['States']:\n",
    "    # Count number of time for checking if the state is in state_city\n",
    "    count = 0\n",
    "    \n",
    "    for key, val in state_city.items():\n",
    "        count += 1\n",
    "        \n",
    "        try: \n",
    "            # If there is a valid city name we can search in state_city, add abbreviated state to the list\n",
    "            if state.lower() in val:\n",
    "                states.append(abbreviated_states[key])\n",
    "                break\n",
    "            # If none, add nan to the list\n",
    "            elif count == len(state_city):\n",
    "                states.append(np.nan)\n",
    "                \n",
    "        except AttributeError:\n",
    "            states.append(np.nan)\n",
    "            break\n",
    "        \n"
   ]
  },
  {
   "cell_type": "code",
   "execution_count": 17,
   "metadata": {},
   "outputs": [
    {
     "data": {
      "text/html": [
       "<div>\n",
       "<style scoped>\n",
       "    .dataframe tbody tr th:only-of-type {\n",
       "        vertical-align: middle;\n",
       "    }\n",
       "\n",
       "    .dataframe tbody tr th {\n",
       "        vertical-align: top;\n",
       "    }\n",
       "\n",
       "    .dataframe thead th {\n",
       "        text-align: right;\n",
       "    }\n",
       "</style>\n",
       "<table border=\"1\" class=\"dataframe\">\n",
       "  <thead>\n",
       "    <tr style=\"text-align: right;\">\n",
       "      <th></th>\n",
       "      <th>Comments</th>\n",
       "      <th>Ratings</th>\n",
       "      <th>Titles</th>\n",
       "      <th>Dates</th>\n",
       "      <th>Locations</th>\n",
       "      <th>States</th>\n",
       "      <th>Cities</th>\n",
       "    </tr>\n",
       "  </thead>\n",
       "  <tbody>\n",
       "    <tr>\n",
       "      <th>0</th>\n",
       "      <td>After waiting 2hours we are told they won't be...</td>\n",
       "      <td>1</td>\n",
       "      <td>Food not delivered</td>\n",
       "      <td>2022-02-27T11:11:47.000Z</td>\n",
       "      <td></td>\n",
       "      <td>NaN</td>\n",
       "      <td></td>\n",
       "    </tr>\n",
       "    <tr>\n",
       "      <th>1</th>\n",
       "      <td>Ordered subway footlong meatballs tasted off. ...</td>\n",
       "      <td>1</td>\n",
       "      <td>Food quality</td>\n",
       "      <td>2022-02-26T22:48:13.000Z</td>\n",
       "      <td></td>\n",
       "      <td>NaN</td>\n",
       "      <td></td>\n",
       "    </tr>\n",
       "    <tr>\n",
       "      <th>2</th>\n",
       "      <td>After a 1.5h wait the restaurant claimed it wa...</td>\n",
       "      <td>1</td>\n",
       "      <td>Food left on the grass median strip in the rain</td>\n",
       "      <td>2022-02-25T13:12:06.000Z</td>\n",
       "      <td></td>\n",
       "      <td>NaN</td>\n",
       "      <td></td>\n",
       "    </tr>\n",
       "    <tr>\n",
       "      <th>3</th>\n",
       "      <td>Would rate no star but wont accept less than o...</td>\n",
       "      <td>1</td>\n",
       "      <td>Order not delivered</td>\n",
       "      <td>2022-02-25T03:38:01.000Z</td>\n",
       "      <td>Metropolitan Adelaide, SA</td>\n",
       "      <td>SA</td>\n",
       "      <td>Metropolitan Adelaide</td>\n",
       "    </tr>\n",
       "    <tr>\n",
       "      <th>4</th>\n",
       "      <td>It’s been tough as a full time worker to order...</td>\n",
       "      <td>2</td>\n",
       "      <td>WAY TOO EXPENSIVE</td>\n",
       "      <td>2022-02-23T11:31:17.000Z</td>\n",
       "      <td>Perth, WA</td>\n",
       "      <td>WA</td>\n",
       "      <td>Perth</td>\n",
       "    </tr>\n",
       "    <tr>\n",
       "      <th>...</th>\n",
       "      <td>...</td>\n",
       "      <td>...</td>\n",
       "      <td>...</td>\n",
       "      <td>...</td>\n",
       "      <td>...</td>\n",
       "      <td>...</td>\n",
       "      <td>...</td>\n",
       "    </tr>\n",
       "    <tr>\n",
       "      <th>210</th>\n",
       "      <td>Placed our order, gave the delivery address an...</td>\n",
       "      <td>1</td>\n",
       "      <td>Absolutely Underwhelmed</td>\n",
       "      <td>2021-10-23T05:15:18.000Z</td>\n",
       "      <td></td>\n",
       "      <td>NaN</td>\n",
       "      <td></td>\n",
       "    </tr>\n",
       "    <tr>\n",
       "      <th>211</th>\n",
       "      <td>I can see a guy accepted my order and on the w...</td>\n",
       "      <td>1</td>\n",
       "      <td>Not impressed</td>\n",
       "      <td>2021-10-23T02:49:33.000Z</td>\n",
       "      <td>Central Highlands and Goldfields, VIC</td>\n",
       "      <td>VIC</td>\n",
       "      <td>Central Highlands and Goldfields</td>\n",
       "    </tr>\n",
       "    <tr>\n",
       "      <th>212</th>\n",
       "      <td>High charges and delivery compared to Doordash...</td>\n",
       "      <td>1</td>\n",
       "      <td>Waited for 2 hrs</td>\n",
       "      <td>2021-10-23T02:42:30.000Z</td>\n",
       "      <td>Greater Melbourne (Outer), VIC</td>\n",
       "      <td>VIC</td>\n",
       "      <td>Greater Melbourne (Outer)</td>\n",
       "    </tr>\n",
       "    <tr>\n",
       "      <th>213</th>\n",
       "      <td>80% of the time (being as generous as I can he...</td>\n",
       "      <td>1</td>\n",
       "      <td>The worst</td>\n",
       "      <td>2021-10-22T22:45:13.000Z</td>\n",
       "      <td>South East Queensland, QLD</td>\n",
       "      <td>QLD</td>\n",
       "      <td>South East Queensland</td>\n",
       "    </tr>\n",
       "    <tr>\n",
       "      <th>214</th>\n",
       "      <td>Ordered food from a restaurant that was only 1...</td>\n",
       "      <td>1</td>\n",
       "      <td>Never again</td>\n",
       "      <td>2021-10-22T11:23:08.000Z</td>\n",
       "      <td></td>\n",
       "      <td>NaN</td>\n",
       "      <td></td>\n",
       "    </tr>\n",
       "  </tbody>\n",
       "</table>\n",
       "<p>215 rows × 7 columns</p>\n",
       "</div>"
      ],
      "text/plain": [
       "                                              Comments Ratings  \\\n",
       "0    After waiting 2hours we are told they won't be...       1   \n",
       "1    Ordered subway footlong meatballs tasted off. ...       1   \n",
       "2    After a 1.5h wait the restaurant claimed it wa...       1   \n",
       "3    Would rate no star but wont accept less than o...       1   \n",
       "4    It’s been tough as a full time worker to order...       2   \n",
       "..                                                 ...     ...   \n",
       "210  Placed our order, gave the delivery address an...       1   \n",
       "211  I can see a guy accepted my order and on the w...       1   \n",
       "212  High charges and delivery compared to Doordash...       1   \n",
       "213  80% of the time (being as generous as I can he...       1   \n",
       "214  Ordered food from a restaurant that was only 1...       1   \n",
       "\n",
       "                                              Titles  \\\n",
       "0                                 Food not delivered   \n",
       "1                                       Food quality   \n",
       "2    Food left on the grass median strip in the rain   \n",
       "3                                Order not delivered   \n",
       "4                                  WAY TOO EXPENSIVE   \n",
       "..                                               ...   \n",
       "210                          Absolutely Underwhelmed   \n",
       "211                                    Not impressed   \n",
       "212                                 Waited for 2 hrs   \n",
       "213                                        The worst   \n",
       "214                                      Never again   \n",
       "\n",
       "                        Dates                              Locations States  \\\n",
       "0    2022-02-27T11:11:47.000Z                                           NaN   \n",
       "1    2022-02-26T22:48:13.000Z                                           NaN   \n",
       "2    2022-02-25T13:12:06.000Z                                           NaN   \n",
       "3    2022-02-25T03:38:01.000Z              Metropolitan Adelaide, SA     SA   \n",
       "4    2022-02-23T11:31:17.000Z                              Perth, WA     WA   \n",
       "..                        ...                                    ...    ...   \n",
       "210  2021-10-23T05:15:18.000Z                                           NaN   \n",
       "211  2021-10-23T02:49:33.000Z  Central Highlands and Goldfields, VIC    VIC   \n",
       "212  2021-10-23T02:42:30.000Z         Greater Melbourne (Outer), VIC    VIC   \n",
       "213  2021-10-22T22:45:13.000Z             South East Queensland, QLD    QLD   \n",
       "214  2021-10-22T11:23:08.000Z                                           NaN   \n",
       "\n",
       "                               Cities  \n",
       "0                                      \n",
       "1                                      \n",
       "2                                      \n",
       "3               Metropolitan Adelaide  \n",
       "4                               Perth  \n",
       "..                                ...  \n",
       "210                                    \n",
       "211  Central Highlands and Goldfields  \n",
       "212         Greater Melbourne (Outer)  \n",
       "213             South East Queensland  \n",
       "214                                    \n",
       "\n",
       "[215 rows x 7 columns]"
      ]
     },
     "execution_count": 17,
     "metadata": {},
     "output_type": "execute_result"
    }
   ],
   "source": [
    "# Replace 'States' with the cleaned data\n",
    "reviews_dict['States'] = states\n",
    "pd.DataFrame(reviews_dict)"
   ]
  },
  {
   "cell_type": "markdown",
   "metadata": {},
   "source": [
    "> <font size=\"4\">***2. Blanks filled with Nulls***</font>"
   ]
  },
  {
   "cell_type": "code",
   "execution_count": 18,
   "metadata": {},
   "outputs": [],
   "source": [
    "# Fill the blanks with NaN\n",
    "reviews_updated = defaultdict(list)\n",
    "for key, value in reviews_dict.items():\n",
    "    for i in value:\n",
    "        if not i:\n",
    "            reviews_updated[key].append(np.nan)\n",
    "        else:\n",
    "            reviews_updated[key].append(i)"
   ]
  },
  {
   "cell_type": "markdown",
   "metadata": {},
   "source": [
    "> <font size=\"4\">***3. Dates***</font>"
   ]
  },
  {
   "cell_type": "code",
   "execution_count": 19,
   "metadata": {},
   "outputs": [],
   "source": [
    "# Change format of date\n",
    "dates = []\n",
    "for datetime in reviews_updated['Dates']:\n",
    "    dates.append(re.findall(r'\\d{4}-\\d{2}-\\d{2}', datetime)[0])\n",
    "    \n",
    "reviews_updated['Dates'] = dates"
   ]
  },
  {
   "cell_type": "markdown",
   "metadata": {},
   "source": [
    "---"
   ]
  },
  {
   "cell_type": "markdown",
   "metadata": {},
   "source": [
    "<a id='data_exploration_2'></a>"
   ]
  },
  {
   "cell_type": "markdown",
   "metadata": {},
   "source": [
    "# Data Exploration & Visualisation (2)"
   ]
  },
  {
   "cell_type": "code",
   "execution_count": 20,
   "metadata": {},
   "outputs": [],
   "source": [
    "import numpy as np\n",
    "import pandas as pd\n",
    "import seaborn as sns\n",
    "import matplotlib.pyplot as plt\n",
    "from matplotlib.pyplot import figure"
   ]
  },
  {
   "cell_type": "code",
   "execution_count": 21,
   "metadata": {},
   "outputs": [],
   "source": [
    "# Reorder the titles of columns\n",
    "df_col_tit = ['Dates', 'Locations', 'States', 'Cities', 'Titles', 'Comments', 'Ratings']\n",
    "df = pd.DataFrame(reviews_updated).reindex(columns=df_col_tit).drop(['Locations', 'Cities'], axis=1)"
   ]
  },
  {
   "cell_type": "code",
   "execution_count": 22,
   "metadata": {},
   "outputs": [
    {
     "data": {
      "text/html": [
       "<div>\n",
       "<style scoped>\n",
       "    .dataframe tbody tr th:only-of-type {\n",
       "        vertical-align: middle;\n",
       "    }\n",
       "\n",
       "    .dataframe tbody tr th {\n",
       "        vertical-align: top;\n",
       "    }\n",
       "\n",
       "    .dataframe thead th {\n",
       "        text-align: right;\n",
       "    }\n",
       "</style>\n",
       "<table border=\"1\" class=\"dataframe\">\n",
       "  <thead>\n",
       "    <tr style=\"text-align: right;\">\n",
       "      <th></th>\n",
       "      <th>Dates</th>\n",
       "      <th>States</th>\n",
       "      <th>Titles</th>\n",
       "      <th>Comments</th>\n",
       "      <th>Ratings</th>\n",
       "    </tr>\n",
       "  </thead>\n",
       "  <tbody>\n",
       "    <tr>\n",
       "      <th>0</th>\n",
       "      <td>2022-02-27</td>\n",
       "      <td>NaN</td>\n",
       "      <td>Food not delivered</td>\n",
       "      <td>After waiting 2hours we are told they won't be...</td>\n",
       "      <td>1</td>\n",
       "    </tr>\n",
       "    <tr>\n",
       "      <th>1</th>\n",
       "      <td>2022-02-26</td>\n",
       "      <td>NaN</td>\n",
       "      <td>Food quality</td>\n",
       "      <td>Ordered subway footlong meatballs tasted off. ...</td>\n",
       "      <td>1</td>\n",
       "    </tr>\n",
       "    <tr>\n",
       "      <th>2</th>\n",
       "      <td>2022-02-25</td>\n",
       "      <td>NaN</td>\n",
       "      <td>Food left on the grass median strip in the rain</td>\n",
       "      <td>After a 1.5h wait the restaurant claimed it wa...</td>\n",
       "      <td>1</td>\n",
       "    </tr>\n",
       "    <tr>\n",
       "      <th>3</th>\n",
       "      <td>2022-02-25</td>\n",
       "      <td>SA</td>\n",
       "      <td>Order not delivered</td>\n",
       "      <td>Would rate no star but wont accept less than o...</td>\n",
       "      <td>1</td>\n",
       "    </tr>\n",
       "    <tr>\n",
       "      <th>4</th>\n",
       "      <td>2022-02-23</td>\n",
       "      <td>WA</td>\n",
       "      <td>WAY TOO EXPENSIVE</td>\n",
       "      <td>It’s been tough as a full time worker to order...</td>\n",
       "      <td>2</td>\n",
       "    </tr>\n",
       "  </tbody>\n",
       "</table>\n",
       "</div>"
      ],
      "text/plain": [
       "        Dates States                                           Titles  \\\n",
       "0  2022-02-27    NaN                               Food not delivered   \n",
       "1  2022-02-26    NaN                                     Food quality   \n",
       "2  2022-02-25    NaN  Food left on the grass median strip in the rain   \n",
       "3  2022-02-25     SA                              Order not delivered   \n",
       "4  2022-02-23     WA                                WAY TOO EXPENSIVE   \n",
       "\n",
       "                                            Comments Ratings  \n",
       "0  After waiting 2hours we are told they won't be...       1  \n",
       "1  Ordered subway footlong meatballs tasted off. ...       1  \n",
       "2  After a 1.5h wait the restaurant claimed it wa...       1  \n",
       "3  Would rate no star but wont accept less than o...       1  \n",
       "4  It’s been tough as a full time worker to order...       2  "
      ]
     },
     "execution_count": 22,
     "metadata": {},
     "output_type": "execute_result"
    }
   ],
   "source": [
    "df.head()"
   ]
  },
  {
   "cell_type": "code",
   "execution_count": 23,
   "metadata": {},
   "outputs": [],
   "source": [
    "# Save as csv\n",
    "df.to_csv('cleaned_data.csv')"
   ]
  },
  {
   "cell_type": "code",
   "execution_count": 24,
   "metadata": {},
   "outputs": [],
   "source": [
    "# Starting point: Read the data (in case not willing to do web scracping again)\n",
    "df = pd.read_csv('cleaned_data.csv')"
   ]
  },
  {
   "cell_type": "code",
   "execution_count": 25,
   "metadata": {},
   "outputs": [
    {
     "name": "stdout",
     "output_type": "stream",
     "text": [
      "<class 'pandas.core.frame.DataFrame'>\n",
      "RangeIndex: 215 entries, 0 to 214\n",
      "Data columns (total 6 columns):\n",
      " #   Column      Non-Null Count  Dtype \n",
      "---  ------      --------------  ----- \n",
      " 0   Unnamed: 0  215 non-null    int64 \n",
      " 1   Dates       215 non-null    object\n",
      " 2   States      120 non-null    object\n",
      " 3   Titles      215 non-null    object\n",
      " 4   Comments    215 non-null    object\n",
      " 5   Ratings     215 non-null    int64 \n",
      "dtypes: int64(2), object(4)\n",
      "memory usage: 10.2+ KB\n"
     ]
    }
   ],
   "source": [
    "df.info()"
   ]
  },
  {
   "cell_type": "code",
   "execution_count": 26,
   "metadata": {},
   "outputs": [],
   "source": [
    "df['Ratings'] = df['Ratings'].astype(int)"
   ]
  },
  {
   "cell_type": "code",
   "execution_count": 27,
   "metadata": {},
   "outputs": [
    {
     "data": {
      "image/png": "[encoded data removed]",
      "text/plain": [
       "<Figure size 648x72 with 1 Axes>"
      ]
     },
     "metadata": {
      "needs_background": "light"
     },
     "output_type": "display_data"
    }
   ],
   "source": [
    "# Set palette\n",
    "colours = ['#8B7765', '#CDAF95', '#EECBAD', '#FFDAB9', '#FFEFD5', '#BDB76B', '#556B2F', '#A2CD5A', '#6E8B3D']\n",
    "sns.palplot(colours)"
   ]
  },
  {
   "cell_type": "code",
   "execution_count": 28,
   "metadata": {},
   "outputs": [
    {
     "data": {
      "text/plain": [
       "<AxesSubplot:title={'center':'Number of Reviews per State'}, ylabel='States'>"
      ]
     },
     "execution_count": 28,
     "metadata": {},
     "output_type": "execute_result"
    },
    {
     "data": {
      "image/png": "[encoded data removed]",
      "text/plain": [
       "<Figure size 720x504 with 2 Axes>"
      ]
     },
     "metadata": {
      "needs_background": "light"
     },
     "output_type": "display_data"
    }
   ],
   "source": [
    "# Heatmap of number of reviews per state\n",
    "count_data = df.groupby('States', dropna=False).count()['Ratings'].sort_values(ascending=False).to_frame()\n",
    "\n",
    "plt.figure(figsize = (10,7))\n",
    "plt.title('Number of Reviews per State')\n",
    "sns.heatmap(count_data, annot=True, fmt='d', cmap=colours)"
   ]
  },
  {
   "cell_type": "code",
   "execution_count": 29,
   "metadata": {},
   "outputs": [],
   "source": [
    "def gen_bar_info(dropna_or_not, bar_data, rate_or_sentiment):\n",
    "    groupby_rate_n_state = df.groupby([rate_or_sentiment,'States'], dropna=dropna_or_not).count()\n",
    "    # Convert to dict and fill zero values\n",
    "    groupby_dict = groupby_rate_n_state.unstack(fill_value=0).stack()['Comments'].to_dict()\n",
    "    \n",
    "    # Create dict about data of bars\n",
    "    for key in groupby_dict:\n",
    "        bar_data[key[1]].append(groupby_dict[key])\n",
    "        \n",
    "    return bar_data, groupby_dict"
   ]
  },
  {
   "cell_type": "code",
   "execution_count": 30,
   "metadata": {},
   "outputs": [],
   "source": [
    "def create_barplot(title, filename, dropna_or_not, rate_or_sentiment):\n",
    "    \n",
    "    empty_dict = defaultdict(list)\n",
    "    bar_data, groupby_dict = gen_bar_info(dropna_or_not, empty_dict, rate_or_sentiment)\n",
    "    \n",
    "    # create DataFrame\n",
    "    rates = set(rate_n_state_key[0] for rate_n_state_key in groupby_dict.keys())\n",
    "    df_bar = pd.DataFrame(bar_data, index=rates)\n",
    "    \n",
    "    # create stacked bar chart for monthly temperatures\n",
    "    df_bar.plot(kind='bar', stacked=True, color=colours)\n",
    "    \n",
    "    plt.xlabel('Rates')\n",
    "    plt.xticks(rotation=0)\n",
    "    \n",
    "    upper_limit = df[rate_or_sentiment].value_counts().max()+10\n",
    "    plt.ylim([0, upper_limit])\n",
    "    plt.ylabel(f'Number of {rate_or_sentiment}') \n",
    "    \n",
    "    plt.title(title)\n",
    "    plt.savefig(filename)\n",
    "    plt.close()"
   ]
  },
  {
   "cell_type": "code",
   "execution_count": 31,
   "metadata": {},
   "outputs": [],
   "source": [
    "create_barplot('Ratings Distributed among States (with Nulls)', 'Ratings_among_States(with Na).png', False, 'Ratings')\n",
    "create_barplot('Ratings Distributed among States (without Nulls)', 'Ratings_among_States(without Na).png', True, 'Ratings')"
   ]
  },
  {
   "cell_type": "markdown",
   "metadata": {},
   "source": [
    "<img src=\"Ratings_among_States(with Na).png\" width=\"600\" height=\"2000\" /> <img src=\"Ratings_among_States(without Na).png\" width=\"600\" height=\"1200\" />"
   ]
  },
  {
   "cell_type": "code",
   "execution_count": 32,
   "metadata": {},
   "outputs": [
    {
     "data": {
      "image/png": "[encoded data removed]",
      "text/plain": [
       "<Figure size 432x288 with 1 Axes>"
      ]
     },
     "metadata": {},
     "output_type": "display_data"
    }
   ],
   "source": [
    "# Pie chart of distribution of ratings eqaul to 1\n",
    "df_rate1 = df[df['Ratings']==1]\n",
    "RateEqualTo1_dict = df_rate1.groupby('States').count()['Ratings'].to_dict()\n",
    "\n",
    "labels = RateEqualTo1_dict.keys()\n",
    "sizes = RateEqualTo1_dict.values()\n",
    "\n",
    "n_label = len(labels)\n",
    "# Colors\n",
    "colors = sns.color_palette('pastel')[0:n_label]\n",
    "# Wedges\n",
    "explode = np.full((1, n_label), 0.05)\n",
    "explode = explode.tolist()[0]\n",
    "\n",
    "# Pie chart\n",
    "fig, ax = plt.subplots()\n",
    "plt.pie(sizes, colors = colours, labels=labels, autopct='%1.f%%', startangle=90, pctdistance=0.85, explode = explode)\n",
    "\n",
    "# Insert a white circle to make a doughnut\n",
    "centre_circle = plt.Circle((0,0),0.70,fc='white')\n",
    "fig = plt.gcf()\n",
    "fig.gca().add_artist(centre_circle)\n",
    "\n",
    "# Ensure that pie is drawn as a circle\n",
    "ax.axis('equal')  \n",
    "plt.tight_layout()\n",
    "\n",
    "plt.title('Distribution of Ratings equal to 1 in Australia',pad=32)\n",
    "plt.show()"
   ]
  },
  {
   "cell_type": "code",
   "execution_count": 33,
   "metadata": {},
   "outputs": [],
   "source": [
    "# Create a dataframe which does not include ratings equal to 3\n",
    "df = df[df['Ratings'] != 3]\n",
    "# Create a 'sentiments' column\n",
    "df['Sentiments'] = df['Ratings'].apply(lambda rating:+1 if rating>3 else -1)"
   ]
  },
  {
   "cell_type": "code",
   "execution_count": 34,
   "metadata": {},
   "outputs": [],
   "source": [
    "create_barplot('Sentiments Distributed among States (with Nulls)', 'Ratings_among_States_updated(with Na).png', False, 'Sentiments')\n",
    "create_barplot('Sentiments Distributed among States (without Nulls)', 'Ratings_among_States_updated(without Na).png', True, 'Sentiments')"
   ]
  },
  {
   "cell_type": "markdown",
   "metadata": {},
   "source": [
    "<img src=\"Ratings_among_States_updated(with Na).png\" width=\"600\" height=\"2000\" /> <img src=\"Ratings_among_States_updated(without Na).png\" width=\"600\" height=\"1200\" />"
   ]
  },
  {
   "cell_type": "markdown",
   "metadata": {},
   "source": [
    "---"
   ]
  },
  {
   "cell_type": "markdown",
   "metadata": {},
   "source": [
    "<a id='text_analysis'></a>"
   ]
  },
  {
   "cell_type": "markdown",
   "metadata": {},
   "source": [
    "# Text Analysis"
   ]
  },
  {
   "cell_type": "markdown",
   "metadata": {},
   "source": [
    "<font size = 4><u>***Data Preprocessing***</u></font>"
   ]
  },
  {
   "cell_type": "code",
   "execution_count": 35,
   "metadata": {},
   "outputs": [
    {
     "name": "stderr",
     "output_type": "stream",
     "text": [
      "[nltk_data] Downloading package wordnet to\n",
      "[nltk_data]     /Users/dingchang/nltk_data...\n",
      "[nltk_data]   Package wordnet is already up-to-date!\n",
      "[nltk_data] Downloading package stopwords to\n",
      "[nltk_data]     /Users/dingchang/nltk_data...\n",
      "[nltk_data]   Package stopwords is already up-to-date!\n"
     ]
    }
   ],
   "source": [
    "import nltk\n",
    "from nltk.corpus import stopwords\n",
    "nltk.download('wordnet')\n",
    "nltk.download('stopwords')\n",
    "import re\n",
    "from nltk.stem import WordNetLemmatizer\n",
    "from sklearn.feature_extraction.text import CountVectorizer\n",
    "from sklearn.model_selection import train_test_split\n",
    "from sklearn.naive_bayes import MultinomialNB\n",
    "from sklearn import metrics\n",
    "import warnings"
   ]
  },
  {
   "cell_type": "code",
   "execution_count": 36,
   "metadata": {},
   "outputs": [],
   "source": [
    "stop_words=set(stopwords.words(\"english\"))\n",
    "\n",
    "def preprocess(raw_text):\n",
    "    \n",
    "    # Keep only letters \n",
    "    letters_only_text = re.sub('[^a-zA-Z]', ' ', raw_text)\n",
    "\n",
    "    # Convert to lower case and split into words\n",
    "    words = letters_only_text.lower().split()\n",
    "\n",
    "    cleaned_w = []\n",
    "    lemmatizer = WordNetLemmatizer()\n",
    "    \n",
    "    # Remove stopwords\n",
    "    for w in words:\n",
    "        if w not in stop_words:\n",
    "            cleaned_w.append(w)\n",
    "    \n",
    "    # Lexicon normalization\n",
    "    stemmed_w = []\n",
    "    for w in cleaned_w:\n",
    "        w = lemmatizer.lemmatize(w)  \n",
    "        stemmed_w.append(w)\n",
    "    \n",
    "    # Combine words\n",
    "    return \" \".join(stemmed_w)"
   ]
  },
  {
   "cell_type": "code",
   "execution_count": 37,
   "metadata": {},
   "outputs": [],
   "source": [
    "df['Preprocessed comments'] = df['Comments'].apply(preprocess) "
   ]
  },
  {
   "cell_type": "code",
   "execution_count": 38,
   "metadata": {},
   "outputs": [
    {
     "name": "stdout",
     "output_type": "stream",
     "text": [
      "              precision    recall  f1-score   support\n",
      "\n",
      "          -1       0.98      1.00      0.99        42\n",
      "           1       0.00      0.00      0.00         1\n",
      "\n",
      "    accuracy                           0.98        43\n",
      "   macro avg       0.49      0.50      0.49        43\n",
      "weighted avg       0.95      0.98      0.97        43\n",
      "\n"
     ]
    }
   ],
   "source": [
    "# Bag of word\n",
    "cv = CountVectorizer(ngram_range=(1,1))\n",
    "text_counts= cv.fit_transform(df['Preprocessed comments'])\n",
    "\n",
    "# Split the data into training and test sets\n",
    "x_train, x_test, y_train, y_test = train_test_split(text_counts, df['Sentiments'], test_size=0.2, random_state=1)\n",
    "\n",
    "warnings.filterwarnings('ignore')\n",
    "# Train model\n",
    "clf = MultinomialNB().fit(x_train, y_train)\n",
    "# Print the report\n",
    "predicted= clf.predict(x_test)\n",
    "print(metrics.classification_report(predicted, y_test))"
   ]
  }
 ],
 "metadata": {
  "kernelspec": {
   "display_name": "Python 3",
   "language": "python",
   "name": "python3"
  },
  "language_info": {
   "codemirror_mode": {
    "name": "ipython",
    "version": 3
   },
   "file_extension": ".py",
   "mimetype": "text/x-python",
   "name": "python",
   "nbconvert_exporter": "python",
   "pygments_lexer": "ipython3",
   "version": "3.8.5"
  }
 },
 "nbformat": 4,
 "nbformat_minor": 5
}
